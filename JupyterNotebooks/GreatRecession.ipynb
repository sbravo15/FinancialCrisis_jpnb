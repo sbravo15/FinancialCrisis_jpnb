{
 "cells": [
  {
   "cell_type": "code",
   "execution_count": 1,
   "id": "ca44ceff",
   "metadata": {},
   "outputs": [],
   "source": [
    "# Start by importing the necessary libraries\n",
    "import pandas as pd\n",
    "import matplotlib.pyplot as plt"
   ]
  },
  {
   "cell_type": "code",
   "execution_count": 2,
   "id": "a753a08a",
   "metadata": {},
   "outputs": [],
   "source": [
    "# Define the data for the top 5 worst financial crises\n",
    "data = {'Crisis': ['Great Depression', 'Savings and Loan Crisis', 'Asian Financial Crisis', 'Dot-com Bubble', 'Global Financial Crisis'],\n",
    "        'Year': [1929, 1980, 1997, 2000, 2008],\n",
    "        'Country/Region': ['Global', 'United States', 'Asia', 'United States', 'Global'],\n",
    "        'Cause': ['Stock market crash, bank failures, and high unemployment', 'Deregulation and risky lending practices', \n",
    "                  'High levels of foreign debt, currency speculation, and lack of regulation', 'Speculation in technology sector', \n",
    "                  'Subprime mortgages and complex financial instruments']}"
   ]
  },
  {
   "cell_type": "code",
   "execution_count": 3,
   "id": "3fc0ed59",
   "metadata": {},
   "outputs": [],
   "source": [
    "# Create a dataframe from the data\n",
    "df = pd.DataFrame(data)"
   ]
  },
  {
   "cell_type": "code",
   "execution_count": 6,
   "id": "ee9ea176",
   "metadata": {
    "scrolled": true
   },
   "outputs": [
    {
     "data": {
      "text/plain": [
       "Text(0.5, 1.0, 'Top 5 Worst Financial Crises of the Past Century')"
      ]
     },
     "execution_count": 6,
     "metadata": {},
     "output_type": "execute_result"
    },
    {
     "data": {
      "image/png": "[encoded data removed]",
      "text/plain": [
       "<Figure size 432x288 with 1 Axes>"
      ]
     },
     "metadata": {
      "needs_background": "light"
     },
     "output_type": "display_data"
    }
   ],
   "source": [
    "# Use matplotlib to create a bar chart of the data\n",
    "plt.bar(df['Crisis'], df['Year'])\n",
    "plt.xlabel('Crisis')\n",
    "plt.ylabel('Year')\n",
    "plt.title('Top 5 Worst Financial Crises of the Past Century')"
   ]
  },
  {
   "cell_type": "code",
   "execution_count": 9,
   "id": "c6adca56",
   "metadata": {},
   "outputs": [],
   "source": [
    "# Show the chart\n",
    "plt.show()"
   ]
  },
  {
   "cell_type": "code",
   "execution_count": null,
   "id": "884993f2",
   "metadata": {},
   "outputs": [],
   "source": []
  },
  {
   "cell_type": "code",
   "execution_count": null,
   "id": "edf2d6c4",
   "metadata": {},
   "outputs": [],
   "source": []
  }
 ],
 "metadata": {
  "kernelspec": {
   "display_name": "Python 3 (ipykernel)",
   "language": "python",
   "name": "python3"
  },
  "language_info": {
   "codemirror_mode": {
    "name": "ipython",
    "version": 3
   },
   "file_extension": ".py",
   "mimetype": "text/x-python",
   "name": "python",
   "nbconvert_exporter": "python",
   "pygments_lexer": "ipython3",
   "version": "3.9.6"
  }
 },
 "nbformat": 4,
 "nbformat_minor": 5
}
